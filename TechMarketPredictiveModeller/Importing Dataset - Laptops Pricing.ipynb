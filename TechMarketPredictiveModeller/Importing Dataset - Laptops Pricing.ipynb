{
 "cells": [
  {
   "cell_type": "markdown",
   "source": [
    "# Objectives\n",
    "\n",
    "Import a dataset from a CSV file to a Pandas dataframe\n",
    "Develop some basic insights about the dataset"
   ],
   "metadata": {
    "collapsed": false
   },
   "id": "91e45de62e1687d1"
  },
  {
   "cell_type": "markdown",
   "source": [],
   "metadata": {
    "collapsed": false
   },
   "id": "d31daab7893b081b"
  },
  {
   "cell_type": "code",
   "outputs": [],
   "source": [
    "import pandas as pd\n",
    "import numpy as np"
   ],
   "metadata": {
    "collapsed": false,
    "ExecuteTime": {
     "end_time": "2024-05-10T04:05:31.758424Z",
     "start_time": "2024-05-10T04:05:30.763677300Z"
    }
   },
   "id": "fec1b357057221ff",
   "execution_count": 1
  },
  {
   "cell_type": "code",
   "execution_count": 2,
   "id": "initial_id",
   "metadata": {
    "collapsed": true,
    "ExecuteTime": {
     "end_time": "2024-05-10T04:05:45.772031400Z",
     "start_time": "2024-05-10T04:05:45.369498200Z"
    }
   },
   "outputs": [
    {
     "ename": "ModuleNotFoundError",
     "evalue": "No module named 'pyodide'",
     "output_type": "error",
     "traceback": [
      "\u001B[1;31m---------------------------------------------------------------------------\u001B[0m",
      "\u001B[1;31mModuleNotFoundError\u001B[0m                       Traceback (most recent call last)",
      "Cell \u001B[1;32mIn[2], line 1\u001B[0m\n\u001B[1;32m----> 1\u001B[0m \u001B[38;5;28;01mfrom\u001B[39;00m \u001B[38;5;21;01mpyodide\u001B[39;00m\u001B[38;5;21;01m.\u001B[39;00m\u001B[38;5;21;01mhttp\u001B[39;00m \u001B[38;5;28;01mimport\u001B[39;00m pyfetch\n\u001B[0;32m      3\u001B[0m \u001B[38;5;28;01masync\u001B[39;00m \u001B[38;5;28;01mdef\u001B[39;00m \u001B[38;5;21mdownload\u001B[39m(url, filename):\n\u001B[0;32m      4\u001B[0m     response \u001B[38;5;241m=\u001B[39m \u001B[38;5;28;01mawait\u001B[39;00m pyfetch(url)\n",
      "\u001B[1;31mModuleNotFoundError\u001B[0m: No module named 'pyodide'"
     ]
    }
   ],
   "source": [
    "from pyodide.http import pyfetch\n",
    "\n",
    "async def download(url, filename):\n",
    "    response = await pyfetch(url)\n",
    "    if response.status == 200:\n",
    "        with open(filename, \"wb\") as f:\n",
    "            f.write(await response.bytes())"
   ]
  },
  {
   "cell_type": "code",
   "outputs": [],
   "source": [
    "file_path = \"https://cf-courses-data.s3.us.cloud-object-storage.appdomain.cloud/IBMDeveloperSkillsNetwork-DA0101EN-Coursera/laptop_pricing_dataset_base.csv\""
   ],
   "metadata": {
    "collapsed": false,
    "ExecuteTime": {
     "end_time": "2024-05-10T04:05:58.288048300Z",
     "start_time": "2024-05-10T04:05:58.277200100Z"
    }
   },
   "id": "e2f59814d109d028",
   "execution_count": 3
  },
  {
   "cell_type": "code",
   "outputs": [
    {
     "ename": "NameError",
     "evalue": "name 'download' is not defined",
     "output_type": "error",
     "traceback": [
      "\u001B[1;31m---------------------------------------------------------------------------\u001B[0m",
      "\u001B[1;31mNameError\u001B[0m                                 Traceback (most recent call last)",
      "Cell \u001B[1;32mIn[4], line 1\u001B[0m\n\u001B[1;32m----> 1\u001B[0m \u001B[38;5;28;01mawait\u001B[39;00m \u001B[43mdownload\u001B[49m(file_path, \u001B[38;5;124m\"\u001B[39m\u001B[38;5;124mlaptops.csv\u001B[39m\u001B[38;5;124m\"\u001B[39m)\n\u001B[0;32m      2\u001B[0m file_name\u001B[38;5;241m=\u001B[39m\u001B[38;5;124m\"\u001B[39m\u001B[38;5;124mlaptops.csv\u001B[39m\u001B[38;5;124m\"\u001B[39m\n",
      "\u001B[1;31mNameError\u001B[0m: name 'download' is not defined"
     ]
    }
   ],
   "source": [
    "await download(file_path, \"laptops.csv\")\n",
    "file_name=\"laptops.csv\""
   ],
   "metadata": {
    "collapsed": false,
    "ExecuteTime": {
     "end_time": "2024-05-10T04:06:06.506928600Z",
     "start_time": "2024-05-10T04:06:06.488532500Z"
    }
   },
   "id": "645a59b5f3bfd29f",
   "execution_count": 4
  },
  {
   "cell_type": "code",
   "outputs": [
    {
     "ename": "NameError",
     "evalue": "name 'file_name' is not defined",
     "output_type": "error",
     "traceback": [
      "\u001B[1;31m---------------------------------------------------------------------------\u001B[0m",
      "\u001B[1;31mNameError\u001B[0m                                 Traceback (most recent call last)",
      "Cell \u001B[1;32mIn[5], line 1\u001B[0m\n\u001B[1;32m----> 1\u001B[0m df \u001B[38;5;241m=\u001B[39m pd\u001B[38;5;241m.\u001B[39mread_csv(\u001B[43mfile_name\u001B[49m)\n",
      "\u001B[1;31mNameError\u001B[0m: name 'file_name' is not defined"
     ]
    }
   ],
   "source": [
    "df = pd.read_csv(file_name)"
   ],
   "metadata": {
    "collapsed": false,
    "ExecuteTime": {
     "end_time": "2024-05-10T04:06:15.193715700Z",
     "start_time": "2024-05-10T04:06:15.170593300Z"
    }
   },
   "id": "4992c16232af58bb",
   "execution_count": 5
  },
  {
   "cell_type": "code",
   "outputs": [],
   "source": [
    "filepath = \"https://cf-courses-data.s3.us.cloud-object-storage.appdomain.cloud/IBMDeveloperSkillsNetwork-DA0101EN-Coursera/laptop_pricing_dataset_base.csv\"\n",
    "df = pd.read_csv(filepath, header=None)"
   ],
   "metadata": {
    "collapsed": false,
    "ExecuteTime": {
     "end_time": "2024-05-10T04:06:37.608544200Z",
     "start_time": "2024-05-10T04:06:36.374769800Z"
    }
   },
   "id": "5c144c2ad0f331d4",
   "execution_count": 6
  },
  {
   "cell_type": "markdown",
   "source": [
    "\n",
    "Loading the dataset to a pandas dataframe named 'df'"
   ],
   "metadata": {
    "collapsed": false
   },
   "id": "9704c06f1f3b47"
  },
  {
   "cell_type": "code",
   "outputs": [
    {
     "data": {
      "text/plain": "     0   1          2   3   4   5       6    7   8    9     10    11\n0  Acer   4  IPS Panel   2   1   5   35.56  1.6   8  256   1.6   978\n1  Dell   3    Full HD   1   1   3  39.624  2.0   4  256   2.2   634\n2  Dell   3    Full HD   1   1   7  39.624  2.7   8  256   2.2   946\n3  Dell   4  IPS Panel   2   1   5  33.782  1.6   8  128  1.22  1244\n4    HP   4    Full HD   2   1   7  39.624  1.8   8  256  1.91   837",
      "text/html": "<div>\n<style scoped>\n    .dataframe tbody tr th:only-of-type {\n        vertical-align: middle;\n    }\n\n    .dataframe tbody tr th {\n        vertical-align: top;\n    }\n\n    .dataframe thead th {\n        text-align: right;\n    }\n</style>\n<table border=\"1\" class=\"dataframe\">\n  <thead>\n    <tr style=\"text-align: right;\">\n      <th></th>\n      <th>0</th>\n      <th>1</th>\n      <th>2</th>\n      <th>3</th>\n      <th>4</th>\n      <th>5</th>\n      <th>6</th>\n      <th>7</th>\n      <th>8</th>\n      <th>9</th>\n      <th>10</th>\n      <th>11</th>\n    </tr>\n  </thead>\n  <tbody>\n    <tr>\n      <th>0</th>\n      <td>Acer</td>\n      <td>4</td>\n      <td>IPS Panel</td>\n      <td>2</td>\n      <td>1</td>\n      <td>5</td>\n      <td>35.56</td>\n      <td>1.6</td>\n      <td>8</td>\n      <td>256</td>\n      <td>1.6</td>\n      <td>978</td>\n    </tr>\n    <tr>\n      <th>1</th>\n      <td>Dell</td>\n      <td>3</td>\n      <td>Full HD</td>\n      <td>1</td>\n      <td>1</td>\n      <td>3</td>\n      <td>39.624</td>\n      <td>2.0</td>\n      <td>4</td>\n      <td>256</td>\n      <td>2.2</td>\n      <td>634</td>\n    </tr>\n    <tr>\n      <th>2</th>\n      <td>Dell</td>\n      <td>3</td>\n      <td>Full HD</td>\n      <td>1</td>\n      <td>1</td>\n      <td>7</td>\n      <td>39.624</td>\n      <td>2.7</td>\n      <td>8</td>\n      <td>256</td>\n      <td>2.2</td>\n      <td>946</td>\n    </tr>\n    <tr>\n      <th>3</th>\n      <td>Dell</td>\n      <td>4</td>\n      <td>IPS Panel</td>\n      <td>2</td>\n      <td>1</td>\n      <td>5</td>\n      <td>33.782</td>\n      <td>1.6</td>\n      <td>8</td>\n      <td>128</td>\n      <td>1.22</td>\n      <td>1244</td>\n    </tr>\n    <tr>\n      <th>4</th>\n      <td>HP</td>\n      <td>4</td>\n      <td>Full HD</td>\n      <td>2</td>\n      <td>1</td>\n      <td>7</td>\n      <td>39.624</td>\n      <td>1.8</td>\n      <td>8</td>\n      <td>256</td>\n      <td>1.91</td>\n      <td>837</td>\n    </tr>\n  </tbody>\n</table>\n</div>"
     },
     "execution_count": 9,
     "metadata": {},
     "output_type": "execute_result"
    }
   ],
   "source": [
    "df = pd.read_csv(file_path,header=None)\n",
    "df.head()"
   ],
   "metadata": {
    "collapsed": false,
    "ExecuteTime": {
     "end_time": "2024-05-10T04:11:00.149693200Z",
     "start_time": "2024-05-10T04:10:58.725907700Z"
    }
   },
   "id": "976e69c018360b57",
   "execution_count": 9
  },
  {
   "cell_type": "markdown",
   "source": [
    "Adding headers to the dataframe"
   ],
   "metadata": {
    "collapsed": false
   },
   "id": "723b16512de62828"
  },
  {
   "cell_type": "code",
   "outputs": [
    {
     "data": {
      "text/plain": "  Manufacturer  Category     Screen  GPU  OS  CPU_core Screen_Size_inch  \\\n0         Acer         4  IPS Panel    2   1         5            35.56   \n1         Dell         3    Full HD    1   1         3           39.624   \n2         Dell         3    Full HD    1   1         7           39.624   \n3         Dell         4  IPS Panel    2   1         5           33.782   \n4           HP         4    Full HD    2   1         7           39.624   \n5         Dell         3    Full HD    1   1         5           39.624   \n6           HP         3    Full HD    3   1         5           39.624   \n7         Acer         3  IPS Panel    2   1         5             38.1   \n8         Dell         3    Full HD    1   1         5           39.624   \n9         Acer         3  IPS Panel    3   1         7             38.1   \n\n   CPU_frequency  RAM_GB  Storage_GB_SSD Weight_kg  Price  \n0            1.6       8             256       1.6    978  \n1            2.0       4             256       2.2    634  \n2            2.7       8             256       2.2    946  \n3            1.6       8             128      1.22   1244  \n4            1.8       8             256      1.91    837  \n5            1.6       8             256       2.2   1016  \n6            1.6       8             256       2.1   1117  \n7            1.6       4             256       2.2    866  \n8            2.5       4             256       2.3    812  \n9            1.8       8             256       2.2   1068  ",
      "text/html": "<div>\n<style scoped>\n    .dataframe tbody tr th:only-of-type {\n        vertical-align: middle;\n    }\n\n    .dataframe tbody tr th {\n        vertical-align: top;\n    }\n\n    .dataframe thead th {\n        text-align: right;\n    }\n</style>\n<table border=\"1\" class=\"dataframe\">\n  <thead>\n    <tr style=\"text-align: right;\">\n      <th></th>\n      <th>Manufacturer</th>\n      <th>Category</th>\n      <th>Screen</th>\n      <th>GPU</th>\n      <th>OS</th>\n      <th>CPU_core</th>\n      <th>Screen_Size_inch</th>\n      <th>CPU_frequency</th>\n      <th>RAM_GB</th>\n      <th>Storage_GB_SSD</th>\n      <th>Weight_kg</th>\n      <th>Price</th>\n    </tr>\n  </thead>\n  <tbody>\n    <tr>\n      <th>0</th>\n      <td>Acer</td>\n      <td>4</td>\n      <td>IPS Panel</td>\n      <td>2</td>\n      <td>1</td>\n      <td>5</td>\n      <td>35.56</td>\n      <td>1.6</td>\n      <td>8</td>\n      <td>256</td>\n      <td>1.6</td>\n      <td>978</td>\n    </tr>\n    <tr>\n      <th>1</th>\n      <td>Dell</td>\n      <td>3</td>\n      <td>Full HD</td>\n      <td>1</td>\n      <td>1</td>\n      <td>3</td>\n      <td>39.624</td>\n      <td>2.0</td>\n      <td>4</td>\n      <td>256</td>\n      <td>2.2</td>\n      <td>634</td>\n    </tr>\n    <tr>\n      <th>2</th>\n      <td>Dell</td>\n      <td>3</td>\n      <td>Full HD</td>\n      <td>1</td>\n      <td>1</td>\n      <td>7</td>\n      <td>39.624</td>\n      <td>2.7</td>\n      <td>8</td>\n      <td>256</td>\n      <td>2.2</td>\n      <td>946</td>\n    </tr>\n    <tr>\n      <th>3</th>\n      <td>Dell</td>\n      <td>4</td>\n      <td>IPS Panel</td>\n      <td>2</td>\n      <td>1</td>\n      <td>5</td>\n      <td>33.782</td>\n      <td>1.6</td>\n      <td>8</td>\n      <td>128</td>\n      <td>1.22</td>\n      <td>1244</td>\n    </tr>\n    <tr>\n      <th>4</th>\n      <td>HP</td>\n      <td>4</td>\n      <td>Full HD</td>\n      <td>2</td>\n      <td>1</td>\n      <td>7</td>\n      <td>39.624</td>\n      <td>1.8</td>\n      <td>8</td>\n      <td>256</td>\n      <td>1.91</td>\n      <td>837</td>\n    </tr>\n    <tr>\n      <th>5</th>\n      <td>Dell</td>\n      <td>3</td>\n      <td>Full HD</td>\n      <td>1</td>\n      <td>1</td>\n      <td>5</td>\n      <td>39.624</td>\n      <td>1.6</td>\n      <td>8</td>\n      <td>256</td>\n      <td>2.2</td>\n      <td>1016</td>\n    </tr>\n    <tr>\n      <th>6</th>\n      <td>HP</td>\n      <td>3</td>\n      <td>Full HD</td>\n      <td>3</td>\n      <td>1</td>\n      <td>5</td>\n      <td>39.624</td>\n      <td>1.6</td>\n      <td>8</td>\n      <td>256</td>\n      <td>2.1</td>\n      <td>1117</td>\n    </tr>\n    <tr>\n      <th>7</th>\n      <td>Acer</td>\n      <td>3</td>\n      <td>IPS Panel</td>\n      <td>2</td>\n      <td>1</td>\n      <td>5</td>\n      <td>38.1</td>\n      <td>1.6</td>\n      <td>4</td>\n      <td>256</td>\n      <td>2.2</td>\n      <td>866</td>\n    </tr>\n    <tr>\n      <th>8</th>\n      <td>Dell</td>\n      <td>3</td>\n      <td>Full HD</td>\n      <td>1</td>\n      <td>1</td>\n      <td>5</td>\n      <td>39.624</td>\n      <td>2.5</td>\n      <td>4</td>\n      <td>256</td>\n      <td>2.3</td>\n      <td>812</td>\n    </tr>\n    <tr>\n      <th>9</th>\n      <td>Acer</td>\n      <td>3</td>\n      <td>IPS Panel</td>\n      <td>3</td>\n      <td>1</td>\n      <td>7</td>\n      <td>38.1</td>\n      <td>1.8</td>\n      <td>8</td>\n      <td>256</td>\n      <td>2.2</td>\n      <td>1068</td>\n    </tr>\n  </tbody>\n</table>\n</div>"
     },
     "execution_count": 10,
     "metadata": {},
     "output_type": "execute_result"
    }
   ],
   "source": [
    "headers = [\"Manufacturer\", \"Category\", \"Screen\", \"GPU\", \"OS\", \"CPU_core\", \"Screen_Size_inch\", \"CPU_frequency\", \"RAM_GB\", \"Storage_GB_SSD\", \"Weight_kg\", \"Price\"]\n",
    "df.columns=headers\n",
    "df.head(10)"
   ],
   "metadata": {
    "collapsed": false,
    "ExecuteTime": {
     "end_time": "2024-05-10T04:12:04.309191600Z",
     "start_time": "2024-05-10T04:12:04.286352Z"
    }
   },
   "id": "f395616c1789adf0",
   "execution_count": 10
  },
  {
   "cell_type": "markdown",
   "source": [
    "Dealing with Missing Data"
   ],
   "metadata": {
    "collapsed": false
   },
   "id": "5cf352aa5d5892f"
  },
  {
   "cell_type": "code",
   "outputs": [],
   "source": [
    "df.replace('?',np.nan,inplace=True)"
   ],
   "metadata": {
    "collapsed": false,
    "ExecuteTime": {
     "end_time": "2024-05-10T04:13:52.594365500Z",
     "start_time": "2024-05-10T04:13:52.573844100Z"
    }
   },
   "id": "efb34c1d5026cc6a",
   "execution_count": 11
  },
  {
   "cell_type": "markdown",
   "source": [
    " checking the data types of the dataframe columns"
   ],
   "metadata": {
    "collapsed": false
   },
   "id": "bb663a738bc176c3"
  },
  {
   "cell_type": "code",
   "outputs": [
    {
     "data": {
      "text/plain": "Manufacturer         object\nCategory              int64\nScreen               object\nGPU                   int64\nOS                    int64\nCPU_core              int64\nScreen_Size_inch     object\nCPU_frequency       float64\nRAM_GB                int64\nStorage_GB_SSD        int64\nWeight_kg            object\nPrice                 int64\ndtype: object"
     },
     "execution_count": 13,
     "metadata": {},
     "output_type": "execute_result"
    }
   ],
   "source": [
    "df.dtypes"
   ],
   "metadata": {
    "collapsed": false,
    "ExecuteTime": {
     "end_time": "2024-05-10T04:26:12.129569600Z",
     "start_time": "2024-05-10T04:26:12.091253700Z"
    }
   },
   "id": "94361db73e1538f7",
   "execution_count": 13
  },
  {
   "cell_type": "markdown",
   "source": [
    " statistical description of the dataset"
   ],
   "metadata": {
    "collapsed": false
   },
   "id": "e1499d0960b4758c"
  },
  {
   "cell_type": "code",
   "outputs": [
    {
     "data": {
      "text/plain": "       Manufacturer    Category   Screen         GPU          OS    CPU_core  \\\ncount           238  238.000000      238  238.000000  238.000000  238.000000   \nunique           11         NaN        2         NaN         NaN         NaN   \ntop            Dell         NaN  Full HD         NaN         NaN         NaN   \nfreq             71         NaN      161         NaN         NaN         NaN   \nmean            NaN    3.205882      NaN    2.151261    1.058824    5.630252   \nstd             NaN    0.776533      NaN    0.638282    0.235790    1.241787   \nmin             NaN    1.000000      NaN    1.000000    1.000000    3.000000   \n25%             NaN    3.000000      NaN    2.000000    1.000000    5.000000   \n50%             NaN    3.000000      NaN    2.000000    1.000000    5.000000   \n75%             NaN    4.000000      NaN    3.000000    1.000000    7.000000   \nmax             NaN    5.000000      NaN    3.000000    2.000000    7.000000   \n\n       Screen_Size_inch  CPU_frequency      RAM_GB  Storage_GB_SSD Weight_kg  \\\ncount               234     238.000000  238.000000      238.000000       233   \nunique                9            NaN         NaN             NaN        77   \ntop              39.624            NaN         NaN             NaN       2.2   \nfreq                 89            NaN         NaN             NaN        21   \nmean                NaN       2.360084    7.882353      245.781513       NaN   \nstd                 NaN       0.411393    2.482603       34.765316       NaN   \nmin                 NaN       1.200000    4.000000      128.000000       NaN   \n25%                 NaN       2.000000    8.000000      256.000000       NaN   \n50%                 NaN       2.500000    8.000000      256.000000       NaN   \n75%                 NaN       2.700000    8.000000      256.000000       NaN   \nmax                 NaN       2.900000   16.000000      256.000000       NaN   \n\n              Price  \ncount    238.000000  \nunique          NaN  \ntop             NaN  \nfreq            NaN  \nmean    1462.344538  \nstd      574.607699  \nmin      527.000000  \n25%     1066.500000  \n50%     1333.000000  \n75%     1777.000000  \nmax     3810.000000  ",
      "text/html": "<div>\n<style scoped>\n    .dataframe tbody tr th:only-of-type {\n        vertical-align: middle;\n    }\n\n    .dataframe tbody tr th {\n        vertical-align: top;\n    }\n\n    .dataframe thead th {\n        text-align: right;\n    }\n</style>\n<table border=\"1\" class=\"dataframe\">\n  <thead>\n    <tr style=\"text-align: right;\">\n      <th></th>\n      <th>Manufacturer</th>\n      <th>Category</th>\n      <th>Screen</th>\n      <th>GPU</th>\n      <th>OS</th>\n      <th>CPU_core</th>\n      <th>Screen_Size_inch</th>\n      <th>CPU_frequency</th>\n      <th>RAM_GB</th>\n      <th>Storage_GB_SSD</th>\n      <th>Weight_kg</th>\n      <th>Price</th>\n    </tr>\n  </thead>\n  <tbody>\n    <tr>\n      <th>count</th>\n      <td>238</td>\n      <td>238.000000</td>\n      <td>238</td>\n      <td>238.000000</td>\n      <td>238.000000</td>\n      <td>238.000000</td>\n      <td>234</td>\n      <td>238.000000</td>\n      <td>238.000000</td>\n      <td>238.000000</td>\n      <td>233</td>\n      <td>238.000000</td>\n    </tr>\n    <tr>\n      <th>unique</th>\n      <td>11</td>\n      <td>NaN</td>\n      <td>2</td>\n      <td>NaN</td>\n      <td>NaN</td>\n      <td>NaN</td>\n      <td>9</td>\n      <td>NaN</td>\n      <td>NaN</td>\n      <td>NaN</td>\n      <td>77</td>\n      <td>NaN</td>\n    </tr>\n    <tr>\n      <th>top</th>\n      <td>Dell</td>\n      <td>NaN</td>\n      <td>Full HD</td>\n      <td>NaN</td>\n      <td>NaN</td>\n      <td>NaN</td>\n      <td>39.624</td>\n      <td>NaN</td>\n      <td>NaN</td>\n      <td>NaN</td>\n      <td>2.2</td>\n      <td>NaN</td>\n    </tr>\n    <tr>\n      <th>freq</th>\n      <td>71</td>\n      <td>NaN</td>\n      <td>161</td>\n      <td>NaN</td>\n      <td>NaN</td>\n      <td>NaN</td>\n      <td>89</td>\n      <td>NaN</td>\n      <td>NaN</td>\n      <td>NaN</td>\n      <td>21</td>\n      <td>NaN</td>\n    </tr>\n    <tr>\n      <th>mean</th>\n      <td>NaN</td>\n      <td>3.205882</td>\n      <td>NaN</td>\n      <td>2.151261</td>\n      <td>1.058824</td>\n      <td>5.630252</td>\n      <td>NaN</td>\n      <td>2.360084</td>\n      <td>7.882353</td>\n      <td>245.781513</td>\n      <td>NaN</td>\n      <td>1462.344538</td>\n    </tr>\n    <tr>\n      <th>std</th>\n      <td>NaN</td>\n      <td>0.776533</td>\n      <td>NaN</td>\n      <td>0.638282</td>\n      <td>0.235790</td>\n      <td>1.241787</td>\n      <td>NaN</td>\n      <td>0.411393</td>\n      <td>2.482603</td>\n      <td>34.765316</td>\n      <td>NaN</td>\n      <td>574.607699</td>\n    </tr>\n    <tr>\n      <th>min</th>\n      <td>NaN</td>\n      <td>1.000000</td>\n      <td>NaN</td>\n      <td>1.000000</td>\n      <td>1.000000</td>\n      <td>3.000000</td>\n      <td>NaN</td>\n      <td>1.200000</td>\n      <td>4.000000</td>\n      <td>128.000000</td>\n      <td>NaN</td>\n      <td>527.000000</td>\n    </tr>\n    <tr>\n      <th>25%</th>\n      <td>NaN</td>\n      <td>3.000000</td>\n      <td>NaN</td>\n      <td>2.000000</td>\n      <td>1.000000</td>\n      <td>5.000000</td>\n      <td>NaN</td>\n      <td>2.000000</td>\n      <td>8.000000</td>\n      <td>256.000000</td>\n      <td>NaN</td>\n      <td>1066.500000</td>\n    </tr>\n    <tr>\n      <th>50%</th>\n      <td>NaN</td>\n      <td>3.000000</td>\n      <td>NaN</td>\n      <td>2.000000</td>\n      <td>1.000000</td>\n      <td>5.000000</td>\n      <td>NaN</td>\n      <td>2.500000</td>\n      <td>8.000000</td>\n      <td>256.000000</td>\n      <td>NaN</td>\n      <td>1333.000000</td>\n    </tr>\n    <tr>\n      <th>75%</th>\n      <td>NaN</td>\n      <td>4.000000</td>\n      <td>NaN</td>\n      <td>3.000000</td>\n      <td>1.000000</td>\n      <td>7.000000</td>\n      <td>NaN</td>\n      <td>2.700000</td>\n      <td>8.000000</td>\n      <td>256.000000</td>\n      <td>NaN</td>\n      <td>1777.000000</td>\n    </tr>\n    <tr>\n      <th>max</th>\n      <td>NaN</td>\n      <td>5.000000</td>\n      <td>NaN</td>\n      <td>3.000000</td>\n      <td>2.000000</td>\n      <td>7.000000</td>\n      <td>NaN</td>\n      <td>2.900000</td>\n      <td>16.000000</td>\n      <td>256.000000</td>\n      <td>NaN</td>\n      <td>3810.000000</td>\n    </tr>\n  </tbody>\n</table>\n</div>"
     },
     "execution_count": 14,
     "metadata": {},
     "output_type": "execute_result"
    }
   ],
   "source": [
    "df.describe(include='all')"
   ],
   "metadata": {
    "collapsed": false,
    "ExecuteTime": {
     "end_time": "2024-05-10T04:27:00.120302500Z",
     "start_time": "2024-05-10T04:27:00.083726700Z"
    }
   },
   "id": "268a6fcb00d9f51c",
   "execution_count": 14
  },
  {
   "cell_type": "markdown",
   "source": [
    "summary info of the datasets"
   ],
   "metadata": {
    "collapsed": false
   },
   "id": "c8ccfca3e7f45519"
  },
  {
   "cell_type": "code",
   "outputs": [
    {
     "data": {
      "text/plain": "<bound method DataFrame.info of     Manufacturer  Category     Screen  GPU  OS  CPU_core Screen_Size_inch  \\\n0           Acer         4  IPS Panel    2   1         5            35.56   \n1           Dell         3    Full HD    1   1         3           39.624   \n2           Dell         3    Full HD    1   1         7           39.624   \n3           Dell         4  IPS Panel    2   1         5           33.782   \n4             HP         4    Full HD    2   1         7           39.624   \n..           ...       ...        ...  ...  ..       ...              ...   \n233       Lenovo         4  IPS Panel    2   1         7            35.56   \n234      Toshiba         3    Full HD    2   1         5           33.782   \n235       Lenovo         4  IPS Panel    2   1         5            30.48   \n236       Lenovo         3    Full HD    3   1         5           39.624   \n237      Toshiba         3    Full HD    2   1         5            35.56   \n\n     CPU_frequency  RAM_GB  Storage_GB_SSD Weight_kg  Price  \n0              1.6       8             256       1.6    978  \n1              2.0       4             256       2.2    634  \n2              2.7       8             256       2.2    946  \n3              1.6       8             128      1.22   1244  \n4              1.8       8             256      1.91    837  \n..             ...     ...             ...       ...    ...  \n233            2.6       8             256       1.7   1891  \n234            2.4       8             256       1.2   1950  \n235            2.6       8             256      1.36   2236  \n236            2.5       6             256       2.4    883  \n237            2.3       8             256      1.95   1499  \n\n[238 rows x 12 columns]>"
     },
     "execution_count": 15,
     "metadata": {},
     "output_type": "execute_result"
    }
   ],
   "source": [
    "df.info"
   ],
   "metadata": {
    "collapsed": false,
    "ExecuteTime": {
     "end_time": "2024-05-10T04:27:41.690736200Z",
     "start_time": "2024-05-10T04:27:41.669391200Z"
    }
   },
   "id": "319383f75e0e94d3",
   "execution_count": 15
  },
  {
   "cell_type": "code",
   "outputs": [
    {
     "name": "stdout",
     "output_type": "stream",
     "text": [
      "<bound method DataFrame.info of     Manufacturer  Category     Screen  GPU  OS  CPU_core Screen_Size_inch  \\\n",
      "0           Acer         4  IPS Panel    2   1         5            35.56   \n",
      "1           Dell         3    Full HD    1   1         3           39.624   \n",
      "2           Dell         3    Full HD    1   1         7           39.624   \n",
      "3           Dell         4  IPS Panel    2   1         5           33.782   \n",
      "4             HP         4    Full HD    2   1         7           39.624   \n",
      "..           ...       ...        ...  ...  ..       ...              ...   \n",
      "233       Lenovo         4  IPS Panel    2   1         7            35.56   \n",
      "234      Toshiba         3    Full HD    2   1         5           33.782   \n",
      "235       Lenovo         4  IPS Panel    2   1         5            30.48   \n",
      "236       Lenovo         3    Full HD    3   1         5           39.624   \n",
      "237      Toshiba         3    Full HD    2   1         5            35.56   \n",
      "\n",
      "     CPU_frequency  RAM_GB  Storage_GB_SSD Weight_kg  Price  \n",
      "0              1.6       8             256       1.6    978  \n",
      "1              2.0       4             256       2.2    634  \n",
      "2              2.7       8             256       2.2    946  \n",
      "3              1.6       8             128      1.22   1244  \n",
      "4              1.8       8             256      1.91    837  \n",
      "..             ...     ...             ...       ...    ...  \n",
      "233            2.6       8             256       1.7   1891  \n",
      "234            2.4       8             256       1.2   1950  \n",
      "235            2.6       8             256      1.36   2236  \n",
      "236            2.5       6             256       2.4    883  \n",
      "237            2.3       8             256      1.95   1499  \n",
      "\n",
      "[238 rows x 12 columns]>\n"
     ]
    }
   ],
   "source": [
    "print(df.info)"
   ],
   "metadata": {
    "collapsed": false,
    "ExecuteTime": {
     "end_time": "2024-05-10T04:28:02.485708Z",
     "start_time": "2024-05-10T04:28:02.458998100Z"
    }
   },
   "id": "ab277ca30f0950b5",
   "execution_count": 16
  },
  {
   "cell_type": "code",
   "outputs": [],
   "source": [],
   "metadata": {
    "collapsed": false
   },
   "id": "f61902cefd02fcb8"
  }
 ],
 "metadata": {
  "kernelspec": {
   "display_name": "Python 3",
   "language": "python",
   "name": "python3"
  },
  "language_info": {
   "codemirror_mode": {
    "name": "ipython",
    "version": 2
   },
   "file_extension": ".py",
   "mimetype": "text/x-python",
   "name": "python",
   "nbconvert_exporter": "python",
   "pygments_lexer": "ipython2",
   "version": "2.7.6"
  }
 },
 "nbformat": 4,
 "nbformat_minor": 5
}
